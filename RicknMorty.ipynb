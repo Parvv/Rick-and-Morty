{
 "cells": [
  {
   "cell_type": "code",
   "execution_count": 25,
   "metadata": {},
   "outputs": [],
   "source": [
    "import numpy as np\n",
    "import tensorflow as tf\n",
    "import os\n",
    "from tensorflow.keras.preprocessing.image import ImageDataGenerator\n",
    "from tensorflow.keras import layers\n",
    "from tensorflow.keras.models import Sequential\n",
    "import matplotlib.pyplot as plt"
   ]
  },
  {
   "cell_type": "code",
   "execution_count": 26,
   "metadata": {},
   "outputs": [
    {
     "data": {
      "text/plain": [
       "'2.4.1'"
      ]
     },
     "execution_count": 26,
     "metadata": {},
     "output_type": "execute_result"
    }
   ],
   "source": [
    "tf.__version__"
   ]
  },
  {
   "cell_type": "code",
   "execution_count": 9,
   "metadata": {},
   "outputs": [
    {
     "name": "stdout",
     "output_type": "stream",
     "text": [
      "Found 838 files belonging to 5 classes.\n",
      "Using 671 files for training.\n",
      "Found 838 files belonging to 5 classes.\n",
      "Using 167 files for validation.\n"
     ]
    }
   ],
   "source": [
    "\n",
    "train=tf.keras.preprocessing.image_dataset_from_directory(r'C:\\Users\\parvp\\Downloads\\RicknMorty',\n",
    "                                                          labels='inferred',\n",
    "                                                          label_mode='categorical',\n",
    "                                                          class_names=[\"Meeseeks\",\"Morty\",\"Poopybutthole\",\"Rick\",\"Summer\"],\n",
    "                                                          batch_size=10,\n",
    "                                                          image_size=(28,28),\n",
    "                                                          shuffle=True,\n",
    "                                                          seed=32,\n",
    "                                                          validation_split=0.2,\n",
    "                                                          subset=\"training\"\n",
    ")\n",
    "test=tf.keras.preprocessing.image_dataset_from_directory(r'C:\\Users\\parvp\\Downloads\\RicknMorty',\n",
    "                                                          labels='inferred',\n",
    "                                                          label_mode='categorical',\n",
    "                                                          class_names=[\"Meeseeks\",\"Morty\",\"Poopybutthole\",\"Rick\",\"Summer\"],\n",
    "                                                          batch_size=10,\n",
    "                                                          image_size=(28,28),\n",
    "                                                          shuffle=True,\n",
    "                                                          seed=32,\n",
    "                                                          validation_split=0.2,\n",
    "                                                          subset=\"validation\"\n",
    ")"
   ]
  },
  {
   "cell_type": "code",
   "execution_count": 10,
   "metadata": {},
   "outputs": [
    {
     "data": {
      "text/plain": [
       "<BatchDataset shapes: ((None, 28, 28, 3), (None, 5)), types: (tf.float32, tf.float32)>"
      ]
     },
     "execution_count": 10,
     "metadata": {},
     "output_type": "execute_result"
    }
   ],
   "source": [
    "train"
   ]
  },
  {
   "cell_type": "code",
   "execution_count": 40,
   "metadata": {},
   "outputs": [],
   "source": [
    "model = Sequential([\n",
    "  layers.experimental.preprocessing.Rescaling(1./255, input_shape=(28,28, 3)),\n",
    "  layers.Conv2D(16, 3, padding='same', activation='relu'),\n",
    "  layers.BatchNormalization(axis=-1),\n",
    "  layers.MaxPooling2D(),\n",
    "  layers.Dropout(0.25),\n",
    "  layers.Conv2D(32, 3, padding='same', activation='relu'),\n",
    "  layers.BatchNormalization(axis=-1),\n",
    "  layers.MaxPooling2D(),\n",
    "  layers.Dropout(0.25),\n",
    "  layers.Conv2D(64, 3, padding='same', activation='relu'),\n",
    "  layers.BatchNormalization(axis=-1),\n",
    "  layers.MaxPooling2D(),\n",
    "  layers.Dropout(0.25),\n",
    "  layers.Conv2D(128, 3, padding='same', activation='relu'),\n",
    "  layers.BatchNormalization(axis=-1),\n",
    "  layers.MaxPooling2D(),\n",
    "  layers.Dropout(0.25),\n",
    "  layers.Flatten(),\n",
    "  layers.Dense(128, activation='softmax'),\n",
    "  layers.Dense(5)\n",
    "])"
   ]
  },
  {
   "cell_type": "code",
   "execution_count": 41,
   "metadata": {},
   "outputs": [
    {
     "name": "stdout",
     "output_type": "stream",
     "text": [
      "Model: \"sequential_5\"\n",
      "_________________________________________________________________\n",
      "Layer (type)                 Output Shape              Param #   \n",
      "=================================================================\n",
      "rescaling_7 (Rescaling)      (None, 28, 28, 3)         0         \n",
      "_________________________________________________________________\n",
      "conv2d_19 (Conv2D)           (None, 28, 28, 16)        448       \n",
      "_________________________________________________________________\n",
      "batch_normalization_8 (Batch (None, 28, 28, 16)        64        \n",
      "_________________________________________________________________\n",
      "max_pooling2d_19 (MaxPooling (None, 14, 14, 16)        0         \n",
      "_________________________________________________________________\n",
      "dropout_4 (Dropout)          (None, 14, 14, 16)        0         \n",
      "_________________________________________________________________\n",
      "conv2d_20 (Conv2D)           (None, 14, 14, 32)        4640      \n",
      "_________________________________________________________________\n",
      "batch_normalization_9 (Batch (None, 14, 14, 32)        128       \n",
      "_________________________________________________________________\n",
      "max_pooling2d_20 (MaxPooling (None, 7, 7, 32)          0         \n",
      "_________________________________________________________________\n",
      "dropout_5 (Dropout)          (None, 7, 7, 32)          0         \n",
      "_________________________________________________________________\n",
      "conv2d_21 (Conv2D)           (None, 7, 7, 64)          18496     \n",
      "_________________________________________________________________\n",
      "batch_normalization_10 (Batc (None, 7, 7, 64)          256       \n",
      "_________________________________________________________________\n",
      "max_pooling2d_21 (MaxPooling (None, 3, 3, 64)          0         \n",
      "_________________________________________________________________\n",
      "dropout_6 (Dropout)          (None, 3, 3, 64)          0         \n",
      "_________________________________________________________________\n",
      "conv2d_22 (Conv2D)           (None, 3, 3, 128)         73856     \n",
      "_________________________________________________________________\n",
      "batch_normalization_11 (Batc (None, 3, 3, 128)         512       \n",
      "_________________________________________________________________\n",
      "max_pooling2d_22 (MaxPooling (None, 1, 1, 128)         0         \n",
      "_________________________________________________________________\n",
      "dropout_7 (Dropout)          (None, 1, 1, 128)         0         \n",
      "_________________________________________________________________\n",
      "flatten_6 (Flatten)          (None, 128)               0         \n",
      "_________________________________________________________________\n",
      "dense_11 (Dense)             (None, 128)               16512     \n",
      "_________________________________________________________________\n",
      "dense_12 (Dense)             (None, 5)                 645       \n",
      "=================================================================\n",
      "Total params: 115,557\n",
      "Trainable params: 115,077\n",
      "Non-trainable params: 480\n",
      "_________________________________________________________________\n"
     ]
    }
   ],
   "source": [
    "model.compile(optimizer='adam',\n",
    "              loss=tf.keras.losses.CategoricalCrossentropy(from_logits=True),\n",
    "              metrics=['accuracy'])\n",
    "model.summary()"
   ]
  },
  {
   "cell_type": "code",
   "execution_count": 44,
   "metadata": {},
   "outputs": [
    {
     "name": "stdout",
     "output_type": "stream",
     "text": [
      "Epoch 1/100\n",
      "68/68 [==============================] - 6s 87ms/step - loss: 0.6755 - accuracy: 0.7198 - val_loss: 0.6306 - val_accuracy: 0.6826\n",
      "Epoch 2/100\n",
      "68/68 [==============================] - 7s 93ms/step - loss: 0.5941 - accuracy: 0.7511 - val_loss: 0.5963 - val_accuracy: 0.7066\n",
      "Epoch 3/100\n",
      "68/68 [==============================] - 7s 91ms/step - loss: 0.5963 - accuracy: 0.7571 - val_loss: 0.6859 - val_accuracy: 0.6647\n",
      "Epoch 4/100\n",
      "68/68 [==============================] - 7s 91ms/step - loss: 0.5970 - accuracy: 0.7630 - val_loss: 0.6749 - val_accuracy: 0.6946\n",
      "Epoch 5/100\n",
      "68/68 [==============================] - 6s 88ms/step - loss: 0.5880 - accuracy: 0.7571 - val_loss: 0.5787 - val_accuracy: 0.7126\n",
      "Epoch 6/100\n",
      "68/68 [==============================] - 6s 87ms/step - loss: 0.5735 - accuracy: 0.7660 - val_loss: 0.6578 - val_accuracy: 0.6886\n",
      "Epoch 7/100\n",
      "68/68 [==============================] - 6s 88ms/step - loss: 0.5644 - accuracy: 0.7705 - val_loss: 0.6017 - val_accuracy: 0.7066\n",
      "Epoch 8/100\n",
      "68/68 [==============================] - 7s 91ms/step - loss: 0.5274 - accuracy: 0.7794 - val_loss: 0.5857 - val_accuracy: 0.6886\n",
      "Epoch 9/100\n",
      "68/68 [==============================] - 6s 88ms/step - loss: 0.5333 - accuracy: 0.7765 - val_loss: 0.6346 - val_accuracy: 0.6946\n",
      "Epoch 10/100\n",
      "68/68 [==============================] - 6s 87ms/step - loss: 0.5560 - accuracy: 0.7675 - val_loss: 0.5563 - val_accuracy: 0.7126\n",
      "Epoch 11/100\n",
      "68/68 [==============================] - 7s 92ms/step - loss: 0.5141 - accuracy: 0.7750 - val_loss: 0.6173 - val_accuracy: 0.6946\n",
      "Epoch 12/100\n",
      "68/68 [==============================] - 6s 89ms/step - loss: 0.5621 - accuracy: 0.7556 - val_loss: 0.6056 - val_accuracy: 0.6886\n",
      "Epoch 13/100\n",
      "68/68 [==============================] - 6s 89ms/step - loss: 0.5049 - accuracy: 0.7765 - val_loss: 0.6393 - val_accuracy: 0.6766\n",
      "Epoch 14/100\n",
      "68/68 [==============================] - 6s 85ms/step - loss: 0.5278 - accuracy: 0.7720 - val_loss: 0.6619 - val_accuracy: 0.6766\n",
      "Epoch 15/100\n",
      "68/68 [==============================] - 7s 93ms/step - loss: 0.5173 - accuracy: 0.7735 - val_loss: 0.5613 - val_accuracy: 0.7066\n",
      "Epoch 16/100\n",
      "68/68 [==============================] - 6s 87ms/step - loss: 0.4900 - accuracy: 0.7779 - val_loss: 0.6751 - val_accuracy: 0.6587\n",
      "Epoch 17/100\n",
      "68/68 [==============================] - 6s 87ms/step - loss: 0.4820 - accuracy: 0.7839 - val_loss: 0.5556 - val_accuracy: 0.7066\n",
      "Epoch 18/100\n",
      "68/68 [==============================] - 7s 88ms/step - loss: 0.5157 - accuracy: 0.7735 - val_loss: 0.5976 - val_accuracy: 0.7126\n",
      "Epoch 19/100\n",
      "68/68 [==============================] - 7s 90ms/step - loss: 0.4906 - accuracy: 0.7794 - val_loss: 0.6762 - val_accuracy: 0.6766\n",
      "Epoch 20/100\n",
      "68/68 [==============================] - 7s 92ms/step - loss: 0.5183 - accuracy: 0.7690 - val_loss: 0.6372 - val_accuracy: 0.6766\n",
      "Epoch 21/100\n",
      "68/68 [==============================] - 6s 87ms/step - loss: 0.5196 - accuracy: 0.7660 - val_loss: 0.5852 - val_accuracy: 0.7126\n",
      "Epoch 22/100\n",
      "68/68 [==============================] - 6s 90ms/step - loss: 0.4899 - accuracy: 0.7765 - val_loss: 0.6518 - val_accuracy: 0.6707\n",
      "Epoch 23/100\n",
      "68/68 [==============================] - 6s 88ms/step - loss: 0.4592 - accuracy: 0.7884 - val_loss: 0.6428 - val_accuracy: 0.6886\n",
      "Epoch 24/100\n",
      "68/68 [==============================] - 6s 86ms/step - loss: 0.4814 - accuracy: 0.7854 - val_loss: 0.6227 - val_accuracy: 0.7006\n",
      "Epoch 25/100\n",
      "68/68 [==============================] - 6s 89ms/step - loss: 0.5084 - accuracy: 0.7705 - val_loss: 0.5974 - val_accuracy: 0.6946\n",
      "Epoch 26/100\n",
      "68/68 [==============================] - 6s 86ms/step - loss: 0.4724 - accuracy: 0.7824 - val_loss: 0.6186 - val_accuracy: 0.6946\n",
      "Epoch 27/100\n",
      "68/68 [==============================] - 6s 89ms/step - loss: 0.4865 - accuracy: 0.7765 - val_loss: 0.5640 - val_accuracy: 0.7126\n",
      "Epoch 28/100\n",
      "68/68 [==============================] - 6s 86ms/step - loss: 0.5120 - accuracy: 0.7750 - val_loss: 0.6093 - val_accuracy: 0.6826\n",
      "Epoch 29/100\n",
      "68/68 [==============================] - 6s 87ms/step - loss: 0.5016 - accuracy: 0.7675 - val_loss: 0.6377 - val_accuracy: 0.6707\n",
      "Epoch 30/100\n",
      "68/68 [==============================] - 6s 84ms/step - loss: 0.5155 - accuracy: 0.7675 - val_loss: 1.2353 - val_accuracy: 0.4910\n",
      "Epoch 31/100\n",
      "68/68 [==============================] - 6s 88ms/step - loss: 0.5211 - accuracy: 0.7630 - val_loss: 0.6102 - val_accuracy: 0.6707\n",
      "Epoch 32/100\n",
      "68/68 [==============================] - 7s 90ms/step - loss: 0.4521 - accuracy: 0.7928 - val_loss: 0.5614 - val_accuracy: 0.7126\n",
      "Epoch 33/100\n",
      "68/68 [==============================] - 6s 90ms/step - loss: 0.4432 - accuracy: 0.7884 - val_loss: 0.5802 - val_accuracy: 0.7006\n",
      "Epoch 34/100\n",
      "68/68 [==============================] - 7s 94ms/step - loss: 0.4412 - accuracy: 0.7899 - val_loss: 0.5570 - val_accuracy: 0.7126\n",
      "Epoch 35/100\n",
      "68/68 [==============================] - 6s 88ms/step - loss: 0.5515 - accuracy: 0.7556 - val_loss: 0.6567 - val_accuracy: 0.6707\n",
      "Epoch 36/100\n",
      "68/68 [==============================] - 6s 90ms/step - loss: 0.4578 - accuracy: 0.7854 - val_loss: 0.6373 - val_accuracy: 0.6946\n",
      "Epoch 37/100\n",
      "68/68 [==============================] - 7s 91ms/step - loss: 0.4372 - accuracy: 0.7928 - val_loss: 0.5711 - val_accuracy: 0.7006\n",
      "Epoch 38/100\n",
      "68/68 [==============================] - 7s 91ms/step - loss: 0.4333 - accuracy: 0.7958 - val_loss: 0.5958 - val_accuracy: 0.7006\n",
      "Epoch 39/100\n",
      "68/68 [==============================] - 6s 90ms/step - loss: 0.4605 - accuracy: 0.7824 - val_loss: 0.5420 - val_accuracy: 0.7126\n",
      "Epoch 40/100\n",
      "68/68 [==============================] - 7s 91ms/step - loss: 0.4665 - accuracy: 0.7794 - val_loss: 0.5164 - val_accuracy: 0.7186\n",
      "Epoch 41/100\n",
      "68/68 [==============================] - 6s 87ms/step - loss: 0.4290 - accuracy: 0.7899 - val_loss: 0.4951 - val_accuracy: 0.7365\n",
      "Epoch 42/100\n",
      "68/68 [==============================] - 6s 89ms/step - loss: 0.4216 - accuracy: 0.7988 - val_loss: 0.5659 - val_accuracy: 0.6946\n",
      "Epoch 43/100\n",
      "68/68 [==============================] - 6s 87ms/step - loss: 0.4220 - accuracy: 0.7988 - val_loss: 0.5382 - val_accuracy: 0.70664305 - accuracy: 0.\n",
      "Epoch 44/100\n",
      "68/68 [==============================] - 6s 86ms/step - loss: 0.4117 - accuracy: 0.7958 - val_loss: 0.5265 - val_accuracy: 0.7126\n",
      "Epoch 45/100\n",
      "68/68 [==============================] - 6s 87ms/step - loss: 0.4239 - accuracy: 0.7928 - val_loss: 0.6252 - val_accuracy: 0.6946\n",
      "Epoch 46/100\n",
      "68/68 [==============================] - 6s 86ms/step - loss: 0.4194 - accuracy: 0.7928 - val_loss: 0.5817 - val_accuracy: 0.7066\n",
      "Epoch 47/100\n",
      "68/68 [==============================] - 6s 88ms/step - loss: 0.4507 - accuracy: 0.7854 - val_loss: 0.5384 - val_accuracy: 0.7066\n",
      "Epoch 48/100\n",
      "68/68 [==============================] - 6s 87ms/step - loss: 0.4718 - accuracy: 0.7809 - val_loss: 0.5735 - val_accuracy: 0.6766\n",
      "Epoch 49/100\n",
      "68/68 [==============================] - 7s 91ms/step - loss: 0.4169 - accuracy: 0.7899 - val_loss: 0.5315 - val_accuracy: 0.7066\n",
      "Epoch 50/100\n",
      "68/68 [==============================] - 7s 92ms/step - loss: 0.4161 - accuracy: 0.7899 - val_loss: 0.4644 - val_accuracy: 0.7305\n",
      "Epoch 51/100\n",
      "68/68 [==============================] - 6s 85ms/step - loss: 0.4016 - accuracy: 0.8018 - val_loss: 0.5086 - val_accuracy: 0.7186\n",
      "Epoch 52/100\n",
      "68/68 [==============================] - 6s 88ms/step - loss: 0.4228 - accuracy: 0.7899 - val_loss: 0.4675 - val_accuracy: 0.7305\n",
      "Epoch 53/100\n",
      "68/68 [==============================] - 6s 89ms/step - loss: 0.4106 - accuracy: 0.7943 - val_loss: 0.6312 - val_accuracy: 0.6946\n",
      "Epoch 54/100\n",
      "68/68 [==============================] - 6s 88ms/step - loss: 0.4759 - accuracy: 0.7735 - val_loss: 0.6181 - val_accuracy: 0.6826\n",
      "Epoch 55/100\n",
      "68/68 [==============================] - 6s 87ms/step - loss: 0.4240 - accuracy: 0.7928 - val_loss: 0.6327 - val_accuracy: 0.6826\n",
      "Epoch 56/100\n",
      "68/68 [==============================] - 7s 90ms/step - loss: 0.4494 - accuracy: 0.7854 - val_loss: 0.5446 - val_accuracy: 0.7066\n",
      "Epoch 57/100\n",
      "68/68 [==============================] - 6s 87ms/step - loss: 0.3781 - accuracy: 0.8033 - val_loss: 0.5719 - val_accuracy: 0.7006\n",
      "Epoch 58/100\n",
      "68/68 [==============================] - 7s 92ms/step - loss: 0.3865 - accuracy: 0.7988 - val_loss: 0.5530 - val_accuracy: 0.7066\n",
      "Epoch 59/100\n",
      "68/68 [==============================] - 6s 88ms/step - loss: 0.4918 - accuracy: 0.7675 - val_loss: 0.6377 - val_accuracy: 0.6527\n",
      "Epoch 60/100\n",
      "68/68 [==============================] - 6s 89ms/step - loss: 0.3836 - accuracy: 0.7973 - val_loss: 0.5103 - val_accuracy: 0.7186\n",
      "Epoch 61/100\n",
      "68/68 [==============================] - 6s 89ms/step - loss: 0.4214 - accuracy: 0.7914 - val_loss: 0.5869 - val_accuracy: 0.6946\n",
      "Epoch 62/100\n",
      "68/68 [==============================] - 6s 86ms/step - loss: 0.3913 - accuracy: 0.7943 - val_loss: 0.6112 - val_accuracy: 0.6946\n",
      "Epoch 63/100\n",
      "68/68 [==============================] - 7s 91ms/step - loss: 0.4133 - accuracy: 0.7973 - val_loss: 0.5509 - val_accuracy: 0.7066\n",
      "Epoch 64/100\n",
      "68/68 [==============================] - 6s 90ms/step - loss: 0.3752 - accuracy: 0.8033 - val_loss: 0.5276 - val_accuracy: 0.6946\n",
      "Epoch 65/100\n",
      "68/68 [==============================] - 6s 87ms/step - loss: 0.3956 - accuracy: 0.7958 - val_loss: 0.5367 - val_accuracy: 0.6946\n",
      "Epoch 66/100\n",
      "68/68 [==============================] - 6s 91ms/step - loss: 0.4009 - accuracy: 0.7943 - val_loss: 0.5505 - val_accuracy: 0.7066\n",
      "Epoch 67/100\n",
      "68/68 [==============================] - 6s 85ms/step - loss: 0.4244 - accuracy: 0.7914 - val_loss: 0.5597 - val_accuracy: 0.6886\n",
      "Epoch 68/100\n",
      "68/68 [==============================] - 7s 92ms/step - loss: 0.3786 - accuracy: 0.8033 - val_loss: 0.5651 - val_accuracy: 0.6946\n",
      "Epoch 69/100\n",
      "68/68 [==============================] - 6s 88ms/step - loss: 0.4304 - accuracy: 0.7884 - val_loss: 0.5456 - val_accuracy: 0.7066\n",
      "Epoch 70/100\n",
      "68/68 [==============================] - 7s 92ms/step - loss: 0.3725 - accuracy: 0.8077 - val_loss: 0.4822 - val_accuracy: 0.7186\n",
      "Epoch 71/100\n",
      "68/68 [==============================] - 7s 89ms/step - loss: 0.4014 - accuracy: 0.8003 - val_loss: 0.5338 - val_accuracy: 0.7006\n",
      "Epoch 72/100\n",
      "68/68 [==============================] - 6s 87ms/step - loss: 0.3905 - accuracy: 0.7988 - val_loss: 0.4932 - val_accuracy: 0.7186\n",
      "Epoch 73/100\n",
      "68/68 [==============================] - 6s 86ms/step - loss: 0.3977 - accuracy: 0.7958 - val_loss: 0.5116 - val_accuracy: 0.7066\n",
      "Epoch 74/100\n",
      "68/68 [==============================] - 6s 88ms/step - loss: 0.3630 - accuracy: 0.8063 - val_loss: 0.5076 - val_accuracy: 0.7126\n",
      "Epoch 75/100\n",
      "68/68 [==============================] - 7s 97ms/step - loss: 0.3660 - accuracy: 0.8122 - val_loss: 0.5031 - val_accuracy: 0.7126\n",
      "Epoch 76/100\n",
      "68/68 [==============================] - 6s 87ms/step - loss: 0.3614 - accuracy: 0.8405 - val_loss: 0.5375 - val_accuracy: 0.7844\n",
      "Epoch 77/100\n",
      "68/68 [==============================] - 7s 93ms/step - loss: 0.3527 - accuracy: 0.8495 - val_loss: 0.4796 - val_accuracy: 0.8263\n",
      "Epoch 78/100\n",
      "68/68 [==============================] - 6s 89ms/step - loss: 0.3787 - accuracy: 0.8569 - val_loss: 0.5331 - val_accuracy: 0.8024\n",
      "Epoch 79/100\n",
      "68/68 [==============================] - 6s 90ms/step - loss: 0.3582 - accuracy: 0.8584 - val_loss: 0.5920 - val_accuracy: 0.8204\n",
      "Epoch 80/100\n",
      "68/68 [==============================] - 7s 91ms/step - loss: 0.3406 - accuracy: 0.8852 - val_loss: 0.5541 - val_accuracy: 0.8383\n",
      "Epoch 81/100\n",
      "68/68 [==============================] - 6s 87ms/step - loss: 0.3640 - accuracy: 0.8629 - val_loss: 0.6282 - val_accuracy: 0.8204\n",
      "Epoch 82/100\n",
      "68/68 [==============================] - 6s 87ms/step - loss: 0.3370 - accuracy: 0.8897 - val_loss: 0.4899 - val_accuracy: 0.8623\n",
      "Epoch 83/100\n",
      "68/68 [==============================] - 7s 94ms/step - loss: 0.3657 - accuracy: 0.8763 - val_loss: 0.4975 - val_accuracy: 0.8623\n",
      "Epoch 84/100\n",
      "68/68 [==============================] - 6s 91ms/step - loss: 0.3551 - accuracy: 0.8852 - val_loss: 0.4577 - val_accuracy: 0.8503\n",
      "Epoch 85/100\n",
      "68/68 [==============================] - 7s 91ms/step - loss: 0.3053 - accuracy: 0.9106 - val_loss: 0.4084 - val_accuracy: 0.8802\n",
      "Epoch 86/100\n",
      "68/68 [==============================] - 6s 87ms/step - loss: 0.3107 - accuracy: 0.9001 - val_loss: 0.4892 - val_accuracy: 0.8443\n",
      "Epoch 87/100\n",
      "68/68 [==============================] - 6s 86ms/step - loss: 0.3785 - accuracy: 0.8778 - val_loss: 0.4325 - val_accuracy: 0.8862\n",
      "Epoch 88/100\n",
      "68/68 [==============================] - 7s 90ms/step - loss: 0.3679 - accuracy: 0.8793 - val_loss: 0.4897 - val_accuracy: 0.8743\n",
      "Epoch 89/100\n",
      "68/68 [==============================] - 6s 87ms/step - loss: 0.3190 - accuracy: 0.9121 - val_loss: 0.4408 - val_accuracy: 0.8922\n",
      "Epoch 90/100\n",
      "68/68 [==============================] - 6s 88ms/step - loss: 0.4014 - accuracy: 0.8838 - val_loss: 0.4587 - val_accuracy: 0.8743\n",
      "Epoch 91/100\n",
      "68/68 [==============================] - 7s 92ms/step - loss: 0.3273 - accuracy: 0.8957 - val_loss: 0.4547 - val_accuracy: 0.8922\n",
      "Epoch 92/100\n",
      "68/68 [==============================] - 6s 90ms/step - loss: 0.3021 - accuracy: 0.9121 - val_loss: 0.4475 - val_accuracy: 0.8503\n",
      "Epoch 93/100\n",
      "68/68 [==============================] - 6s 86ms/step - loss: 0.2750 - accuracy: 0.9180 - val_loss: 0.4345 - val_accuracy: 0.8862\n",
      "Epoch 94/100\n",
      "68/68 [==============================] - 6s 90ms/step - loss: 0.2681 - accuracy: 0.9225 - val_loss: 0.4087 - val_accuracy: 0.8862\n",
      "Epoch 95/100\n",
      "68/68 [==============================] - 7s 90ms/step - loss: 0.2314 - accuracy: 0.9329 - val_loss: 0.3713 - val_accuracy: 0.9162\n",
      "Epoch 96/100\n",
      "68/68 [==============================] - 6s 87ms/step - loss: 0.2923 - accuracy: 0.9165 - val_loss: 0.3644 - val_accuracy: 0.8982\n",
      "Epoch 97/100\n",
      "68/68 [==============================] - 6s 87ms/step - loss: 0.2452 - accuracy: 0.9285 - val_loss: 0.3905 - val_accuracy: 0.8982\n",
      "Epoch 98/100\n",
      "68/68 [==============================] - 6s 88ms/step - loss: 0.2400 - accuracy: 0.9374 - val_loss: 0.3605 - val_accuracy: 0.8922\n",
      "Epoch 99/100\n",
      "68/68 [==============================] - 6s 84ms/step - loss: 0.2616 - accuracy: 0.9210 - val_loss: 0.4357 - val_accuracy: 0.8563\n",
      "Epoch 100/100\n",
      "68/68 [==============================] - 6s 89ms/step - loss: 0.2317 - accuracy: 0.9329 - val_loss: 0.4436 - val_accuracy: 0.8802\n"
     ]
    }
   ],
   "source": [
    "history=model.fit(train,validation_data=test,epochs=100)"
   ]
  },
  {
   "cell_type": "code",
   "execution_count": 45,
   "metadata": {},
   "outputs": [
    {
     "data": {
      "text/plain": [
       "Text(0.5, 1.0, 'loss')"
      ]
     },
     "execution_count": 45,
     "metadata": {},
     "output_type": "execute_result"
    },
    {
     "data": {
      "image/png": "[encoded data removed]",
      "text/plain": [
       "<Figure size 1224x288 with 2 Axes>"
      ]
     },
     "metadata": {
      "needs_background": "light"
     },
     "output_type": "display_data"
    }
   ],
   "source": [
    "fig = plt.figure(figsize = (17, 4))\n",
    "    \n",
    "plt.subplot(121)\n",
    "plt.plot(history.history['accuracy'], label = 'acc')\n",
    "plt.plot(history.history['val_accuracy'], label = 'val_acc')\n",
    "plt.legend()\n",
    "plt.grid()\n",
    "plt.title(f'accuracy')\n",
    "\n",
    "plt.subplot(122)\n",
    "plt.plot(history.history['loss'], label = 'loss')\n",
    "plt.plot(history.history['val_loss'], label = 'val_loss')\n",
    "plt.legend()\n",
    "plt.grid()\n",
    "plt.title(f'loss')"
   ]
  },
  {
   "cell_type": "code",
   "execution_count": 2,
   "metadata": {
    "scrolled": true
   },
   "outputs": [
    {
     "ename": "NameError",
     "evalue": "name 'model' is not defined",
     "output_type": "error",
     "traceback": [
      "\u001b[1;31m---------------------------------------------------------------------------\u001b[0m",
      "\u001b[1;31mNameError\u001b[0m                                 Traceback (most recent call last)",
      "\u001b[1;32m<ipython-input-2-7050a6681f35>\u001b[0m in \u001b[0;36m<module>\u001b[1;34m\u001b[0m\n\u001b[0;32m      2\u001b[0m \u001b[1;33m\u001b[0m\u001b[0m\n\u001b[0;32m      3\u001b[0m \u001b[1;31m# Saving all model\u001b[0m\u001b[1;33m\u001b[0m\u001b[1;33m\u001b[0m\u001b[1;33m\u001b[0m\u001b[0m\n\u001b[1;32m----> 4\u001b[1;33m \u001b[0mmodel\u001b[0m\u001b[1;33m.\u001b[0m\u001b[0msave\u001b[0m\u001b[1;33m(\u001b[0m\u001b[1;34m'RickandMorty.h5'\u001b[0m\u001b[1;33m)\u001b[0m\u001b[1;33m\u001b[0m\u001b[1;33m\u001b[0m\u001b[0m\n\u001b[0m",
      "\u001b[1;31mNameError\u001b[0m: name 'model' is not defined"
     ]
    }
   ],
   "source": [
    "from tensorflow.keras.models import load_model\n",
    "\n",
    "# Saving all model\n",
    "model.save('RickandMorty.h5')"
   ]
  },
  {
   "cell_type": "code",
   "execution_count": null,
   "metadata": {},
   "outputs": [],
   "source": [
    "from tensorflow.keras.models import load_model\n",
    "model.load(''RickandMorty.h5')"
   ]
  },
  {
   "cell_type": "code",
   "execution_count": null,
   "metadata": {},
   "outputs": [],
   "source": []
  }
 ],
 "metadata": {
  "kernelspec": {
   "display_name": "Python 3",
   "language": "python",
   "name": "python3"
  },
  "language_info": {
   "codemirror_mode": {
    "name": "ipython",
    "version": 3
   },
   "file_extension": ".py",
   "mimetype": "text/x-python",
   "name": "python",
   "nbconvert_exporter": "python",
   "pygments_lexer": "ipython3",
   "version": "3.7.6"
  }
 },
 "nbformat": 4,
 "nbformat_minor": 4
}
